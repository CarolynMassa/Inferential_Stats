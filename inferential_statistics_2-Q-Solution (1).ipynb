{
 "cells": [
  {
   "cell_type": "markdown",
   "metadata": {},
   "source": [
    "# Inferential statistics II - Bootstrapping\n",
    "Assignment completed by Carolyn Massa Feb. 6, 2020"
   ]
  },
  {
   "cell_type": "markdown",
   "metadata": {},
   "source": [
    "## Introduction"
   ]
  },
  {
   "cell_type": "markdown",
   "metadata": {},
   "source": [
    "This solution is performed to test the Null Hypothesis from our previous exercise that states that the hospital charges uninsured patients a much different rate as opposed to those that are insured.  We will review our data below of 10,000 claims to decide to reject or accept the Null Hypothesis. We will apply the Bootstrap method and use permutations as well to review the difference in Standard Deviations between insuranced and uninsured patient charges.\n",
    "\n"
   ]
  },
  {
   "cell_type": "code",
   "execution_count": 1,
   "metadata": {},
   "outputs": [],
   "source": [
    "import pandas as pd\n",
    "import numpy as np\n",
    "from numpy.random import seed\n",
    "import matplotlib.pyplot as plt"
   ]
  },
  {
   "cell_type": "markdown",
   "metadata": {},
   "source": [
    "## Medical charge data set"
   ]
  },
  {
   "cell_type": "code",
   "execution_count": 2,
   "metadata": {},
   "outputs": [],
   "source": [
    "df = pd.read_csv('insurance2.csv')#medical charges with and without insurance claims"
   ]
  },
  {
   "cell_type": "code",
   "execution_count": 3,
   "metadata": {},
   "outputs": [
    {
     "data": {
      "text/html": [
       "<div>\n",
       "<style scoped>\n",
       "    .dataframe tbody tr th:only-of-type {\n",
       "        vertical-align: middle;\n",
       "    }\n",
       "\n",
       "    .dataframe tbody tr th {\n",
       "        vertical-align: top;\n",
       "    }\n",
       "\n",
       "    .dataframe thead th {\n",
       "        text-align: right;\n",
       "    }\n",
       "</style>\n",
       "<table border=\"1\" class=\"dataframe\">\n",
       "  <thead>\n",
       "    <tr style=\"text-align: right;\">\n",
       "      <th></th>\n",
       "      <th>age</th>\n",
       "      <th>sex</th>\n",
       "      <th>bmi</th>\n",
       "      <th>children</th>\n",
       "      <th>smoker</th>\n",
       "      <th>region</th>\n",
       "      <th>charges</th>\n",
       "      <th>insuranceclaim</th>\n",
       "    </tr>\n",
       "  </thead>\n",
       "  <tbody>\n",
       "    <tr>\n",
       "      <td>0</td>\n",
       "      <td>19</td>\n",
       "      <td>0</td>\n",
       "      <td>27.900</td>\n",
       "      <td>0</td>\n",
       "      <td>1</td>\n",
       "      <td>3</td>\n",
       "      <td>16884.92400</td>\n",
       "      <td>1</td>\n",
       "    </tr>\n",
       "    <tr>\n",
       "      <td>1</td>\n",
       "      <td>18</td>\n",
       "      <td>1</td>\n",
       "      <td>33.770</td>\n",
       "      <td>1</td>\n",
       "      <td>0</td>\n",
       "      <td>2</td>\n",
       "      <td>1725.55230</td>\n",
       "      <td>1</td>\n",
       "    </tr>\n",
       "    <tr>\n",
       "      <td>2</td>\n",
       "      <td>28</td>\n",
       "      <td>1</td>\n",
       "      <td>33.000</td>\n",
       "      <td>3</td>\n",
       "      <td>0</td>\n",
       "      <td>2</td>\n",
       "      <td>4449.46200</td>\n",
       "      <td>0</td>\n",
       "    </tr>\n",
       "    <tr>\n",
       "      <td>3</td>\n",
       "      <td>33</td>\n",
       "      <td>1</td>\n",
       "      <td>22.705</td>\n",
       "      <td>0</td>\n",
       "      <td>0</td>\n",
       "      <td>1</td>\n",
       "      <td>21984.47061</td>\n",
       "      <td>0</td>\n",
       "    </tr>\n",
       "    <tr>\n",
       "      <td>4</td>\n",
       "      <td>32</td>\n",
       "      <td>1</td>\n",
       "      <td>28.880</td>\n",
       "      <td>0</td>\n",
       "      <td>0</td>\n",
       "      <td>1</td>\n",
       "      <td>3866.85520</td>\n",
       "      <td>1</td>\n",
       "    </tr>\n",
       "  </tbody>\n",
       "</table>\n",
       "</div>"
      ],
      "text/plain": [
       "   age  sex     bmi  children  smoker  region      charges  insuranceclaim\n",
       "0   19    0  27.900         0       1       3  16884.92400               1\n",
       "1   18    1  33.770         1       0       2   1725.55230               1\n",
       "2   28    1  33.000         3       0       2   4449.46200               0\n",
       "3   33    1  22.705         0       0       1  21984.47061               0\n",
       "4   32    1  28.880         0       0       1   3866.85520               1"
      ]
     },
     "execution_count": 3,
     "metadata": {},
     "output_type": "execute_result"
    }
   ],
   "source": [
    "df.head()"
   ]
  },
  {
   "cell_type": "markdown",
   "metadata": {},
   "source": [
    "In the previous assignment, you used the frequentist approach to estimate the lower limit for the 95% confidence interval on the mean hospital charge. This approach relies on statistical theory that has been developed over the years and is also limited to statistics for which theoretical results on the sampling distribution exist. These results are remarkably useful and applicable much of the time and under a surprisingly wide range of conditions."
   ]
  },
  {
   "cell_type": "markdown",
   "metadata": {},
   "source": [
    "Having calculated the 95% lower confidence interval using frequentist theory in the previous exercise, you'll now use bootstrap inference to verify your calculations and check that you get consistent results without making the assumptions required before. After all, the distribution of charges really was very non-normal."
   ]
  },
  {
   "cell_type": "markdown",
   "metadata": {},
   "source": [
    "__Q:__ Use bootstrap sampling to estimate the same 95% confidence interval lower limit as before."
   ]
  },
  {
   "cell_type": "markdown",
   "metadata": {},
   "source": [
    "A: Here it is: array([6676.06177337, 8486.94648372])Lower 95% CI: 6683.99830926605\n",
    "Upper 95% CI: 8506.649041575301"
   ]
  },
  {
   "cell_type": "code",
   "execution_count": 4,
   "metadata": {},
   "outputs": [
    {
     "data": {
      "text/plain": [
       "array([16884.924  ,  1725.5523 ,  4449.462  , 21984.47061,  3866.8552 ])"
      ]
     },
     "execution_count": 4,
     "metadata": {},
     "output_type": "execute_result"
    }
   ],
   "source": [
    "charges = df['charges'].values #lets look at the charges then apply our bootstrapping method\n",
    "charges[0:5]\n"
   ]
  },
  {
   "cell_type": "code",
   "execution_count": 5,
   "metadata": {},
   "outputs": [
    {
     "name": "stdout",
     "output_type": "stream",
     "text": [
      "Lower 95% CI: 12624.862119128531\n",
      "Upper 95% CI: 13918.009299969919\n"
     ]
    }
   ],
   "source": [
    "seed(47) #First let's review our confidence level by just looking at the charges and not if they are insured or not\n",
    "n_reps = 10000\n",
    "bs_means = []\n",
    "for _ in range(n_reps):\n",
    "    # Select samples of the same size from the original sample\n",
    "    # We select with replacement\n",
    "    # Calculate the mean of each sample\n",
    "    bs_means.append(np.mean(np.random.choice(charges, size=len(charges))))\n",
    "# Compute the 95% confidence interval: conf_int\n",
    "conf_int = np.percentile(bs_means, [2.5, 97.5])\n",
    "print(f'Lower 95% CI: {conf_int[0]}')\n",
    "print(f'Upper 95% CI: {conf_int[1]}')"
   ]
  },
  {
   "cell_type": "markdown",
   "metadata": {},
   "source": [
    "If you performed 10000 replicates immediately after setting the random seed to 47, you should get the value 12724 here, which compares very well with the value 12725 obtained using the _t_-distribution confidence interval previously. It is a most pleasant result to see the predictions of classical frequentist theory match with results that are now possible through the number-crunching ability of computers.\n",
    "\n",
    "NOTE: I am not getting 12724 though it may be due to the fact that there are two methods to perform a T test depending on how equal the variances are as mentioned below."
   ]
  },
  {
   "cell_type": "markdown",
   "metadata": {},
   "source": [
    "Remember, in the previous mini-projects, we saw that there are two ways of performing a _t_-test from a sample, depending on whether we can assume the groups have equal variance or not. We can actually easily test this using the bootstrap approach!"
   ]
  },
  {
   "cell_type": "markdown",
   "metadata": {},
   "source": [
    "__Q:__ Calculate the 95% confidence interval for the difference between the standard deviations of insurance and non-insurance claim charges (insured - non-insured). Calculate the differences over 10000 replicates. Plot the histogram of values and mark the locations of the percentiles. State the null and alternative hypothesis and comment on whether you would retain or reject the null hypothesis in this case and why.\n",
    "\n",
    "A: H0 : there is no difference in standard deviations between insured and non-insured groups\n",
    "\n",
    "\n",
    "HA : there is a difference in standard deviations between insured and non-insured groups\n",
    "\n"
   ]
  },
  {
   "cell_type": "code",
   "execution_count": 6,
   "metadata": {},
   "outputs": [],
   "source": [
    "# simulated mean of mean\n",
    "bts_mean = np.mean(bs_means)"
   ]
  },
  {
   "cell_type": "code",
   "execution_count": 7,
   "metadata": {},
   "outputs": [
    {
     "data": {
      "text/plain": [
       "(13270.422265141257, 13268.292567069491)"
      ]
     },
     "execution_count": 7,
     "metadata": {},
     "output_type": "execute_result"
    }
   ],
   "source": [
    "# simulated mean VS true mean\n",
    "(df['charges'].mean(), bts_mean)"
   ]
  },
  {
   "cell_type": "code",
   "execution_count": 8,
   "metadata": {},
   "outputs": [
    {
     "name": "stdout",
     "output_type": "stream",
     "text": [
      "[16884.924   1725.5523  3866.8552  8240.5896  2721.3208]\n"
     ]
    }
   ],
   "source": [
    "conf_int = np.percentile(bs_means, [5])\n",
    "insured = df[df['insuranceclaim'] == 1]['charges'].values\n",
    "un_insured = df[df['insuranceclaim'] == 0]['charges'].values\n",
    "print(insured [0:5])"
   ]
  },
  {
   "cell_type": "code",
   "execution_count": 9,
   "metadata": {},
   "outputs": [],
   "source": [
    "def diff_of_stdev(arr1, arr2):\n",
    "    \"\"\"\n",
    "    This loop will accepts two standard deviations as floats\n",
    "    Returns the difference between standard deviations\n",
    "    \"\"\"\n",
    "    return np.std(arr1, ddof=1) - np.std(arr2, ddof=1)\n",
    "\n",
    "def perm_samples(data1, data2):\n",
    "    \"\"\"Generate a permutation sample from two data sets.\"\"\"\n",
    "\n",
    "    # Concatenate the data sets: data\n",
    "    data = np.concatenate((data1, data2))\n",
    "\n",
    "    # Permute the concatenated array: permuted_data\n",
    "    permuted_data = np.random.permutation(data)\n",
    "\n",
    "    # Split the permuted array into two: perm_sample_1, perm_sample_2\n",
    "    perm_sample_1 = permuted_data[:len(data1)]\n",
    "    perm_sample_2 = permuted_data[len(data1):]\n",
    "\n",
    "    return perm_sample_1, perm_sample_2\n",
    "\n",
    "def draw_perm_reps(data_1, data_2, func, size=1):\n",
    "    \"\"\"Generate multiple permutation replicates.\"\"\"\n",
    "\n",
    "    # Initialize array of replicates: perm_replicates\n",
    "    perm_replicates = np.empty(size)\n",
    "\n",
    "    for i in range(size):\n",
    "        # Generate permutation sample\n",
    "        perm_sample_1, perm_sample_2 = perm_samples(data_1, data_2)\n",
    "\n",
    "        # Compute the test statistic\n",
    "        perm_replicates[i] = func(perm_sample_1, perm_sample_2)\n",
    "\n",
    "    return perm_replicates"
   ]
  },
  {
   "cell_type": "code",
   "execution_count": 10,
   "metadata": {},
   "outputs": [
    {
     "data": {
      "text/plain": [
       "array([-609.516403  ,  -22.1703422 ,  108.70568739,  457.66825466,\n",
       "       -188.33739134])"
      ]
     },
     "execution_count": 10,
     "metadata": {},
     "output_type": "execute_result"
    }
   ],
   "source": [
    "seed(47)\n",
    "# Draw 10,000 permutation replicates: perm_replicates\n",
    "size=10000\n",
    "perm_replicates = draw_perm_reps(insured, un_insured, diff_of_stdev, size=size)\n",
    "perm_replicates[0:5]"
   ]
  },
  {
   "cell_type": "code",
   "execution_count": 11,
   "metadata": {},
   "outputs": [
    {
     "name": "stdout",
     "output_type": "stream",
     "text": [
      "-0.6062271636070733\n",
      "627.9320507440277\n"
     ]
    }
   ],
   "source": [
    "print(np.mean(perm_replicates))\n",
    "print(np.std(perm_replicates))"
   ]
  },
  {
   "cell_type": "code",
   "execution_count": null,
   "metadata": {},
   "outputs": [],
   "source": []
  },
  {
   "cell_type": "code",
   "execution_count": 12,
   "metadata": {},
   "outputs": [
    {
     "name": "stdout",
     "output_type": "stream",
     "text": [
      "Lower 95% CI: -1225.8896621419356\n",
      "Upper 95% CI: 1245.4843695294596\n"
     ]
    }
   ],
   "source": [
    "conf_int = np.percentile(perm_replicates, [2.5, 97.5])\n",
    "print(f'Lower 95% CI: {conf_int[0]}')\n",
    "print(f'Upper 95% CI: {conf_int[1]}')"
   ]
  },
  {
   "cell_type": "code",
   "execution_count": 13,
   "metadata": {},
   "outputs": [
    {
     "data": {
      "text/plain": [
       "7599.418291990396"
      ]
     },
     "execution_count": 13,
     "metadata": {},
     "output_type": "execute_result"
    }
   ],
   "source": [
    "# Compute difference of mean impact force from experiment: observed_diff_means\n",
    "obs_diff_stdevs = diff_of_stdev(insured, un_insured)\n",
    "obs_diff_stdevs"
   ]
  },
  {
   "cell_type": "code",
   "execution_count": 14,
   "metadata": {
    "scrolled": true
   },
   "outputs": [
    {
     "data": {
      "image/png": "[encoded data removed]",
      "text/plain": [
       "<Figure size 1008x576 with 1 Axes>"
      ]
     },
     "metadata": {
      "needs_background": "light"
     },
     "output_type": "display_data"
    }
   ],
   "source": [
    "fig, ax = plt.subplots(figsize=(14,8))\n",
    "ax.hist(perm_replicates, bins = 50)\n",
    "ax.axvline(conf_int[0], color='red', linestyle='--', label= f\"lower 95% CI {round(conf_int[0],0)}\")\n",
    "ax.axvline(conf_int[1], color='red', linestyle='--', label= f\"upper 95% CI {round(conf_int[1],0)}\")\n",
    "ax.axvline(obs_diff_stdevs, color='red', linestyle='-', label= f\"Observed Difference of Standard Deviations\\\n",
    "{round(obs_diff_stdevs,0)}\")\n",
    "ax.set_ylabel('Frequency')\n",
    "ax.set_xlabel('SD of Insured Charges - SD of Non-Insured Charges')\n",
    "ax.set_title(f'Bootstrap Distribution of Difference in Standard Deviations\\n\\\n",
    "between Insured and Non-Insured Hospital Charges\\n Replicates: {n_reps}')\n",
    "plt.legend()\n",
    "plt.show();"
   ]
  },
  {
   "cell_type": "markdown",
   "metadata": {},
   "source": [
    "By reviewing the histogram above we see that the observed value is much higher than the bootstrapped upper value so we will reject the null hypothesis.\n"
   ]
  },
  {
   "cell_type": "code",
   "execution_count": 15,
   "metadata": {},
   "outputs": [
    {
     "data": {
      "text/plain": [
       "array([16884.924   ,  1725.5523  ,  3866.8552  ,  8240.5896  ,\n",
       "        2721.3208  , 27808.7251  ,  1826.843   , 11090.7178  ,\n",
       "       39611.7577  , 10797.3362  , 10602.385   , 36837.467   ,\n",
       "       13228.84695 ,  4149.736   ,  1137.011   , 37701.8768  ,\n",
       "       14001.1338  ,  2775.19215 , 38711.      , 35585.576   ,\n",
       "        2198.18985 , 13770.0979  , 51194.55914 , 39774.2763  ,\n",
       "       48173.361   ,  3046.062   , 20630.28351 ,  3556.9223  ,\n",
       "       38709.176   ,  2211.13075 , 23568.272   , 37742.5757  ,\n",
       "       47496.49445 , 34303.1672  , 23244.7902  ,  8606.2174  ,\n",
       "       14711.7438  ,  1743.214   , 14235.072   ,  5920.1041  ,\n",
       "       16577.7795  , 11741.726   , 11946.6259  ,  7726.854   ,\n",
       "       11356.6609  ,  1532.4697  ,  2755.02095 ,  6571.02435 ,\n",
       "        7935.29115 , 37165.1638  , 39836.519   , 21098.55405 ,\n",
       "       43578.9394  , 11073.176   ,  8026.6666  , 11082.5772  ,\n",
       "        2026.9741  , 30184.9367  , 47291.055   , 10226.2842  ,\n",
       "       22412.6485  , 15820.699   ,  6186.127   , 21344.8467  ,\n",
       "       30942.1918  , 17560.37975 ,  2867.1196  , 47055.5321  ,\n",
       "       10825.2537  , 11881.358   ,  4646.759   ,  2404.7338  ,\n",
       "       30259.99556 , 11381.3254  , 19107.7796  ,  8601.3293  ,\n",
       "        7740.337   ,  2257.47525 , 39556.4945  ,  3385.39915 ,\n",
       "       17081.08    ,  9634.538   , 12815.44495 , 11163.568   ,\n",
       "        2457.21115 ,  2155.6815  ,  1261.442   ,  2166.732   ,\n",
       "        3490.5491  , 40720.55105 ,  9877.6077  , 10959.6947  ,\n",
       "        7789.635   , 19964.7463  ,  6948.7008  , 21223.6758  ,\n",
       "       15518.18025 , 36950.2567  , 19749.38338 , 21348.706   ,\n",
       "       36149.4835  , 10450.552   ,  5028.1466  , 10407.08585 ,\n",
       "        2719.27975 , 13405.3903  ,  8116.68    ,  1694.7964  ,\n",
       "        5246.047   ,  2855.43755 , 48824.45    ,  8823.279   ,\n",
       "       11735.87905 ,  1631.8212  ,  7419.4779  , 43753.33705 ,\n",
       "        6775.961   , 12557.6053  ,  4883.866   ,  1137.4697  ,\n",
       "        1639.5631  ,  5649.715   ,  8516.829   , 14901.5167  ,\n",
       "        2130.6759  ,  8871.1517  , 37133.8982  , 11743.299   ,\n",
       "       13880.949   ,  6610.1097  ,  1980.07    ,  7371.772   ,\n",
       "       10355.641   ,  5012.471   , 10564.8845  , 34779.615   ,\n",
       "       19515.5416  ,  2689.4954  , 24227.33724 ,  7358.17565 ,\n",
       "        9225.2564  ,  7443.64305 , 14001.2867  ,  1615.7667  ,\n",
       "       17352.6803  ,  7152.6714  , 38511.6283  , 29523.1656  ,\n",
       "       24476.47851 , 12648.7034  ,  1986.9334  , 47305.305   ,\n",
       "       44260.7499  , 41097.16175 , 13047.33235 , 43921.1837  ,\n",
       "        5400.9805  , 33750.2918  , 17085.2676  , 24869.8368  ,\n",
       "       36219.40545 , 46151.1245  , 17179.522   ,  7441.053   ,\n",
       "       42856.838   ,  7265.7025  ,  2523.1695  ,  9715.841   ,\n",
       "       22331.5668  , 48549.17835 , 11879.10405 ,  9625.92    ,\n",
       "        9432.9253  , 14256.1928  , 47896.79135 , 25992.82104 ,\n",
       "        3172.018   , 42112.2356  ,  2156.7518  , 16297.846   ,\n",
       "       21978.6769  , 38746.3551  , 24873.3849  , 12265.5069  ,\n",
       "       12646.207   ,  4151.0287  , 11944.59435 ,  8444.474   ,\n",
       "       42124.5153  ,  8124.4084  , 34838.873   ,  9722.7695  ,\n",
       "        8835.26495 , 10435.06525 ,  7421.19455 , 35491.64    ,\n",
       "       11566.30055 ,  2866.091   ,  6600.20595 , 42760.5022  ,\n",
       "       47928.03    ,  9144.565   , 48517.56315 , 24393.6224  ,\n",
       "       13429.0354  , 11658.37915 , 19144.57652 , 13822.803   ,\n",
       "       41919.097   , 18955.22017 , 13352.0998  , 13217.0945  ,\n",
       "       13981.85035 ,  8334.45755 ,  1635.73365 ,  3554.203   ,\n",
       "       12404.8791  , 14133.03775 , 24603.04837 ,  9620.3307  ,\n",
       "        1837.2819  , 13844.506   ,  9778.3472  ,  7639.41745 ,\n",
       "       36085.219   ,  1391.5287  , 18033.9679  , 38126.2465  ,\n",
       "       27000.98473 , 42303.69215 , 20781.48892 ,  1261.859   ,\n",
       "       11856.4115  , 30284.64294 ,  2138.0707  ,  8964.06055 ,\n",
       "        9290.1395  , 16586.49771 , 14988.432   ,  1631.6683  ,\n",
       "        8083.9198  , 14692.66935 , 11396.9002  ,  1621.3402  ,\n",
       "       19594.80965 ,  2134.9015  ,  7345.7266  ,  9140.951   ,\n",
       "       14418.2804  , 28950.4692  , 46889.2612  , 46599.1084  ,\n",
       "       39125.33225 ,  2727.3951  ,  7323.734819,  3167.45585 ,\n",
       "       23082.95533 ,  5969.723   , 12638.195   ,  2254.7967  ,\n",
       "       12592.5345  ,  2897.3235  ,  4738.2682  , 37079.372   ,\n",
       "        1149.3959  , 28287.89766 , 26109.32905 ,  7345.084   ,\n",
       "       12730.9996  ,  5910.944   ,  1769.53165 ,  4686.3887  ,\n",
       "       21797.0004  , 11840.77505 , 10601.412   , 22144.032   ,\n",
       "       15230.32405 , 19521.9682  ,  2497.0383  ,  2203.47185 ,\n",
       "        1744.465   , 20878.78443 , 25382.297   , 28868.6639  ,\n",
       "       35147.52848 ,  2534.39375 ,  1534.3045  ,  1824.2854  ,\n",
       "        9304.7019  ,  1622.1885  ,  9880.068   ,  4347.02335 ,\n",
       "        1253.936   , 48885.13561 , 10461.9794  ,  1748.774   ,\n",
       "       12574.049   ,  1967.0227  ,  8027.968   , 13470.86    ,\n",
       "       36197.699   ,  6837.3687  , 22218.1149  , 32548.3405  ,\n",
       "        2643.2685  , 11455.28    , 11763.0009  ,  2498.4144  ,\n",
       "        1256.299   , 21082.16    , 11362.755   ,  3857.75925 ,\n",
       "       25656.57526 ,  3994.1778  ,  9866.30485 ,  5397.6167  ,\n",
       "       38245.59327 , 11482.63485 ,  8342.90875 , 48675.5177  ,\n",
       "       14043.4767  , 12925.886   , 19214.70553 , 13831.1152  ,\n",
       "       27346.04207 , 13887.204   , 63770.42801 , 10231.4999  ,\n",
       "       23807.2406  ,  3268.84665 , 11538.421   ,  3213.62205 ,\n",
       "       45863.205   , 13390.559   ,  3972.9247  , 17878.90068 ,\n",
       "        8334.5896  ,  3935.1799  , 39983.42595 ,  1646.4297  ,\n",
       "       10923.9332  ,  2494.022   ,  9058.7303  ,  2128.43105 ,\n",
       "        6373.55735 , 45702.02235 ,  3761.292   , 31620.00106 ,\n",
       "       12222.8983  ,  1664.9996  , 58571.07448 ,  9724.53    ,\n",
       "        1639.5631  ,  6356.2707  , 43943.8761  , 13635.6379  ,\n",
       "       11842.442   , 15359.1045  ,  5709.1644  ,  8823.98575 ,\n",
       "        7640.3092  ,  5594.8455  , 33471.97189 ,  1633.0444  ,\n",
       "        9174.13565 , 17468.9839  ,  9283.562   , 25678.77845 ,\n",
       "       39241.442   ,  2207.69745 ,  1880.07    , 42969.8527  ,\n",
       "       11658.11505 , 23306.547   , 34439.8559  , 10713.644   ,\n",
       "        3659.346   , 40182.246   , 34617.84065 , 12129.61415 ,\n",
       "        3736.4647  , 11326.71487 , 11365.952   , 42983.4585  ,\n",
       "       10085.846   ,  1977.815   ,  3366.6697  ,  9391.346   ,\n",
       "       14410.9321  , 20149.3229  , 13143.86485 , 18806.14547 ,\n",
       "        1712.227   , 12430.95335 , 10579.711   ,  8280.6227  ,\n",
       "        8527.532   , 12244.531   , 24667.419   ,  3410.324   ,\n",
       "       26392.26029 , 14394.39815 ,  6435.6237  ,  5148.5526  ,\n",
       "        1136.3994  , 27037.9141  , 42560.4304  , 40003.33225 ,\n",
       "       45710.20785 ,  3943.5954  ,  4399.731   ,  6185.3208  ,\n",
       "       46200.9851  , 46130.5265  ,  2585.269   , 40103.89    ,\n",
       "       11244.3769  ,  7729.64575 ,  5438.7491  , 34806.4677  ,\n",
       "        2104.1134  ,  8068.185   ,  2362.22905 ,  3577.999   ,\n",
       "        3201.24515 , 40273.6455  , 10976.24575 ,  2020.5523  ,\n",
       "        9541.69555 ,  9504.3103  , 44400.4064  , 10264.4421  ,\n",
       "        5469.0066  ,  1984.4533  , 12146.971   , 10848.1343  ,\n",
       "       12231.6136  ,  9875.6804  , 12979.358   ,  1263.249   ,\n",
       "       40932.4295  , 16657.71745 ,  2217.6012  ,  6781.3542  ,\n",
       "        9583.8933  , 40419.0191  , 36189.1017  , 44585.45587 ,\n",
       "       18246.4955  , 43254.41795 ,  3757.8448  ,  8827.2099  ,\n",
       "        9910.35985 ,  8556.907   ,  3062.50825 , 19539.243   ,\n",
       "        1906.35825 , 14210.53595 , 23065.4207  , 36307.7983  ,\n",
       "       19040.876   ,  3070.8087  ,  9095.06825 , 11842.62375 ,\n",
       "        8062.764   , 14319.031   , 11150.78    , 12797.20962 ,\n",
       "       17748.5062  ,  7448.40395 ,  9869.8102  ,  1146.7966  ,\n",
       "        9386.1613  , 24520.264   , 12741.16745 ,  1917.3184  ,\n",
       "       13457.9608  ,  5662.225   ,  1252.407   , 21195.818   ,\n",
       "       18310.742   , 11848.141   , 17904.52705 , 14313.8463  ,\n",
       "       38792.6856  ,  1815.8759  ,  7731.85785 , 28476.73499 ,\n",
       "        2136.88225 ,  1131.5066  ,  1877.9294  , 23401.30575 ,\n",
       "       55135.40209 ,  7445.918   ,  1621.8827  ,  8219.2039  ,\n",
       "       43813.8661  , 20773.62775 , 39597.4072  , 13393.756   ,\n",
       "       11743.9341  ,  5377.4578  ,  7160.3303  ,  4402.233   ,\n",
       "       11657.7189  , 12622.1795  ,  1526.312   , 36021.0112  ,\n",
       "       27533.9129  , 10072.05505 , 45008.9555  ,  9872.701   ,\n",
       "        2438.0552  , 10601.63225 , 37270.1512  , 42111.6647  ,\n",
       "       24106.91255 ,  1875.344   , 40974.1649  , 15817.9857  ,\n",
       "       18218.16139 , 10965.446   , 46113.511   ,  1141.4451  ,\n",
       "       11576.13    ,  8457.818   ,  6849.026   ,  2690.1138  ,\n",
       "       46255.1125  , 19719.6947  , 27218.43725 ,  5272.1758  ,\n",
       "        1682.597   , 11945.1327  , 29330.98315 , 44202.6536  ,\n",
       "       13555.0049  , 13063.883   , 19798.05455 ,  1634.5734  ,\n",
       "       48673.5588  ,  8125.7845  , 12644.589   ,  7633.7206  ,\n",
       "       17496.306   , 33732.6867  , 14382.70905 ,  2473.3341  ,\n",
       "       21774.32215 , 35069.37452 , 13041.921   ,  5245.2269  ,\n",
       "       13462.52    ,  4320.41085 , 13470.8044  ,  6289.7549  ,\n",
       "        2927.0647  ,  6238.298   , 10096.97    ,  7348.142   ,\n",
       "       12233.828   , 32108.66282 ,  9487.6442  ,  9549.5651  ,\n",
       "        2217.46915 , 12982.8747  , 11674.13    ,  7160.094   ,\n",
       "       39047.285   ,  6358.77645 , 47462.894   , 38998.546   ,\n",
       "       20009.63365 , 41999.52    , 41034.2214  , 28468.91901 ,\n",
       "       14474.675   , 26467.09737 , 23967.38305 , 10702.6424  ,\n",
       "        1759.338   ,  2322.6218  , 16138.76205 ,  7804.1605  ,\n",
       "        4889.0368  ,  4518.82625 , 14571.8908  , 13887.9685  ,\n",
       "        5267.81815 , 34472.841   , 21232.18226 , 24915.22085 ,\n",
       "       18767.7377  ,  8765.249   ,  5383.536   ,  8798.593   ,\n",
       "       35595.5898  , 42211.1382  ,  8569.8618  ,  2020.177   ,\n",
       "       16450.8947  ,  9850.432   ,  6877.9801  , 21677.28345 ,\n",
       "       44423.803   ,  4137.5227  , 13747.87235 , 12950.0712  ,\n",
       "       37484.4493  , 39725.51805 ,  2250.8352  , 20234.85475 ,\n",
       "       33475.81715 , 11394.06555 , 21880.82    , 44501.3982  ,\n",
       "       39727.614   ,  8023.13545 , 14394.5579  , 25309.489   ,\n",
       "       10594.50155 ,  8277.523   , 17929.30337 ,  2480.9791  ,\n",
       "        4462.7218  ,  1981.5819  , 48970.2476  ,  8978.1851  ,\n",
       "        5757.41345 , 10928.849   , 39871.7043  , 13974.45555 ,\n",
       "        1909.52745 , 12096.6512  ,  8551.347   ,  2102.2647  ,\n",
       "       34672.1472  ,  4076.497   , 10796.35025 , 11353.2276  ,\n",
       "        9748.9106  , 41676.0811  , 11286.5387  , 33907.548   ,\n",
       "       44641.1974  ,  1674.6323  , 23045.56616 ,  3227.1211  ,\n",
       "       11253.421   , 11363.2832  , 20420.60465 , 10338.9316  ,\n",
       "        8988.15875 , 10493.9458  , 11512.405   , 41949.2441  ,\n",
       "       24180.9335  , 10807.4863  ,  9222.4026  , 36124.5737  ,\n",
       "       38282.7495  , 34166.273   ,  8347.1643  , 46661.4424  ,\n",
       "       18903.49141 , 40904.1995  , 10214.636   , 14358.36437 ,\n",
       "        3693.428   , 20709.02034 , 19673.33573 , 11085.5868  ,\n",
       "        3704.3545  , 36898.73308 ,  9048.0273  , 52590.82939 ,\n",
       "        2261.5688  ,  5979.731   ,  2203.73595 , 12235.8392  ,\n",
       "       40941.2854  , 11015.1747  , 39722.7462  ,  2459.7201  ,\n",
       "        3989.841   ,  7727.2532  ,  2200.83085 ,  5227.98875 ,\n",
       "       10982.5013  ,  6112.35295 , 17178.6824  , 11093.6229  ,\n",
       "        2154.361   , 23887.6627  ,  2899.48935 , 19350.3689  ,\n",
       "        7650.77375 ,  2850.68375 ,  2632.992   , 18328.2381  ,\n",
       "       37465.34375 , 13844.7972  , 21771.3423  , 13126.67745 ,\n",
       "       13019.16105 ,  8671.19125 , 33307.5508  ,  5699.8375  ,\n",
       "        2055.3249  ,  9964.06    , 38415.474   , 20296.86345 ,\n",
       "       12347.172   ,  3956.07145 , 12890.05765 , 41661.602   ,\n",
       "       26125.67477 ,  6640.54485 ,  7162.0122  , 10594.2257  ,\n",
       "       11938.25595 , 60021.39897 , 20167.33603 ,  8515.7587  ,\n",
       "        2699.56835 , 12224.35085 ,  3238.4357  , 47269.854   ,\n",
       "       49577.6624  ,  3171.6149  ,  1135.9407  ,  9101.798   ,\n",
       "        1633.9618  , 37607.5277  , 18648.4217  , 16232.847   ,\n",
       "        4415.1588  ,  6474.013   , 26926.5144  , 10704.47    ,\n",
       "       34254.05335 ,  1880.487   ,  8615.3     ,  3292.52985 ,\n",
       "        3021.80915 , 14478.33015 , 17043.3414  ,  2741.948   ,\n",
       "        4357.04365 , 22462.04375 ,  8283.6807  , 24535.69855 ,\n",
       "       14283.4594  , 47403.88    ,  3732.6251  , 38344.566   ,\n",
       "        7147.4728  , 34828.654   ,  9301.89355 ,  1708.92575 ,\n",
       "       62592.87309 , 46718.16325 , 37829.7242  , 21259.37795 ,\n",
       "        2464.6188  , 16115.3045  , 33900.653   ,  4571.41305 ,\n",
       "        4536.259   , 36397.576   ,  1163.4627  , 28101.33305 ,\n",
       "       12981.3457  , 43896.3763  , 13143.33665 ,  7050.0213  ,\n",
       "        9377.9047  , 10325.206   , 12629.1656  , 10795.93733 ,\n",
       "        2205.9808  ,  1629.8335  , 29141.3603  ])"
      ]
     },
     "execution_count": 15,
     "metadata": {},
     "output_type": "execute_result"
    }
   ],
   "source": [
    "yi = df[df['insuranceclaim'] == 1]['charges'].values\n",
    "ni = df[df['insuranceclaim'] == 0]['charges'].values\n",
    "\n",
    "yi"
   ]
  },
  {
   "cell_type": "code",
   "execution_count": null,
   "metadata": {},
   "outputs": [],
   "source": []
  },
  {
   "cell_type": "code",
   "execution_count": 16,
   "metadata": {},
   "outputs": [],
   "source": [
    "# We draw a sample from the df listed population with insurance and without ins:\n",
    "sampleyi = np.random.choice(yi, size=10000)\n",
    "sampleni = np.random.choice(ni, size=10000)"
   ]
  },
  {
   "cell_type": "code",
   "execution_count": 17,
   "metadata": {},
   "outputs": [],
   "source": [
    "# bootstrap for st.dev:\n",
    "boot_std = []\n",
    "for _ in range(10000):\n",
    "    bootsample = np.random.choice(sampleyi,size=10000, replace=True)\n",
    "    boot_std.append(bootsample)"
   ]
  },
  {
   "cell_type": "code",
   "execution_count": 18,
   "metadata": {},
   "outputs": [
    {
     "name": "stdout",
     "output_type": "stream",
     "text": [
      "Lower 95% CI: 6683.99830926605\n",
      "Upper 95% CI: 8506.649041575301\n"
     ]
    }
   ],
   "source": [
    "def diff_of_stdevs(arr1, arr2):\n",
    "    \"\"\"\n",
    "    Accepts two standard deviations as floats\n",
    "    Returns the difference between standard deviations\n",
    "    \"\"\"\n",
    "    return np.std(arr1, ddof=1) - np.std(arr2, ddof=1)\n",
    "\n",
    "seed(47)\n",
    "n_reps = 10000\n",
    "bs_diff_of_stdevs = []\n",
    "for _ in range(n_reps):\n",
    "    # Select samples of the same size from the original sample\n",
    "    # We select with replacement\n",
    "    # Calculate the mean of each sample\n",
    "    bs_ins = np.random.choice(insured, size=len(insured))\n",
    "    bs_un_ins = np.random.choice(un_insured, size=len(un_insured))\n",
    "    bs_diff_of_stdevs.append(diff_of_stdevs(bs_ins, bs_un_ins))\n",
    "    # Compute the 95% confidence interval: conf_int\n",
    "conf_int = np.percentile(bs_diff_of_stdevs, [2.5, 97.5])\n",
    "print(f'Lower 95% CI: {conf_int[0]}')\n",
    "print(f'Upper 95% CI: {conf_int[1]}')\n"
   ]
  },
  {
   "cell_type": "code",
   "execution_count": 19,
   "metadata": {},
   "outputs": [
    {
     "data": {
      "image/png": "[encoded data removed]",
      "text/plain": [
       "<Figure size 1008x576 with 1 Axes>"
      ]
     },
     "metadata": {
      "needs_background": "light"
     },
     "output_type": "display_data"
    }
   ],
   "source": [
    "fig, ax = plt.subplots(figsize=(14,8))\n",
    "ax.hist(bs_diff_of_stdevs, bins = 50)\n",
    "ax.axvline(conf_int[0], color='red', linestyle='--', label= f\"lower 95% CI {round(conf_int[0],0)}\")\n",
    "ax.axvline(conf_int[1], color='red', linestyle='--', label= f\"upper 95% CI {round(conf_int[1],0)}\")\n",
    "ax.set_ylabel('Frequency')\n",
    "ax.set_xlabel('SD of Insured Charges - SD of Non-Insured Charges')\n",
    "ax.set_title(f'Bootstrap Distribution of Difference in Standard Deviations\\n\\\n",
    "between Insured and Un-Insured Hospital Charges\\n Replicates: {n_reps}')\n",
    "plt.legend()\n",
    "plt.show();"
   ]
  },
  {
   "cell_type": "code",
   "execution_count": 20,
   "metadata": {},
   "outputs": [],
   "source": [
    "def bootstrap_replicate_1d(data, func):\n",
    "    return func(np.random.choice(data, size=len(data)))\n",
    "\n",
    "def draw_bs_reps(data, func, size=1):\n",
    "    \"\"\"Draw bootstrap replicates.\"\"\"\n",
    "    # Initialize array of replicates: bs_replicates\n",
    "    bs_replicates = np.empty(size)\n",
    "    # Generate replicates\n",
    "    for i in range(size):\n",
    "        bs_replicates[i] = bootstrap_replicate_1d(data, func)\n",
    "\n",
    "    return bs_replicates"
   ]
  },
  {
   "cell_type": "code",
   "execution_count": 21,
   "metadata": {},
   "outputs": [
    {
     "ename": "NameError",
     "evalue": "name 'observed_diff' is not defined",
     "output_type": "error",
     "traceback": [
      "\u001b[1;31m---------------------------------------------------------------------------\u001b[0m",
      "\u001b[1;31mNameError\u001b[0m                                 Traceback (most recent call last)",
      "\u001b[1;32m<ipython-input-21-2f73ede32691>\u001b[0m in \u001b[0;36m<module>\u001b[1;34m\u001b[0m\n\u001b[0;32m      1\u001b[0m \u001b[0mobserved_diff_means\u001b[0m \u001b[1;33m=\u001b[0m \u001b[0mnp\u001b[0m\u001b[1;33m.\u001b[0m\u001b[0mmean\u001b[0m\u001b[1;33m(\u001b[0m\u001b[0myi\u001b[0m\u001b[1;33m)\u001b[0m \u001b[1;33m-\u001b[0m \u001b[0mnp\u001b[0m\u001b[1;33m.\u001b[0m\u001b[0mmean\u001b[0m\u001b[1;33m(\u001b[0m\u001b[0mni\u001b[0m\u001b[1;33m)\u001b[0m\u001b[1;33m\u001b[0m\u001b[1;33m\u001b[0m\u001b[0m\n\u001b[1;32m----> 2\u001b[1;33m \u001b[0mobserved_diff\u001b[0m\u001b[1;33m\u001b[0m\u001b[1;33m\u001b[0m\u001b[0m\n\u001b[0m",
      "\u001b[1;31mNameError\u001b[0m: name 'observed_diff' is not defined"
     ]
    }
   ],
   "source": [
    "observed_diff_means = np.mean(yi) - np.mean(ni)\n",
    "observed_diff"
   ]
  },
  {
   "cell_type": "code",
   "execution_count": null,
   "metadata": {},
   "outputs": [],
   "source": [
    "p = np.sum(bs_replicates >= observed_diff_means) / len(bs_replicates)\n",
    "print(f'p-value = {p:.6f}')"
   ]
  },
  {
   "cell_type": "code",
   "execution_count": null,
   "metadata": {
    "scrolled": true
   },
   "outputs": [],
   "source": [
    "#we compute the mean charge of our grouped data\n",
    "\n",
    "mean_charge = np.mean(np.concatenate((yi, ni)))\n",
    "\n",
    "# we look for the common mean to improve accuracy by adding the mean charge with both insured and uninsured groups\n",
    "yi_shifted = yi - np.mean(yi) + mean_charge\n",
    "ni_shifted = ni - np.mean(ni) + mean_charge\n",
    "\n",
    "# Generate bootstrap replicates\n",
    "bs_reps_charges_ins = draw_bs_reps(yi_shifted,\n",
    "                               np.mean, size=10000)\n",
    "bs_reps_charges_noins = draw_bs_reps(ni_shifted,\n",
    "                               np.mean, size=10000)\n",
    "\n",
    "# Get replicates of difference of means: bs_replicates\n",
    "bs_replicates = bs_reps_charges_ins - bs_reps_charges_noins\n",
    "\n",
    "bs_replicates[0:5]"
   ]
  },
  {
   "cell_type": "code",
   "execution_count": null,
   "metadata": {},
   "outputs": [],
   "source": [
    "fig, ax = plt.subplots(figsize=(14,8))\n",
    "ax.hist(bs_replicates, bins = 50)\n",
    "ax.axvline(observed_diff_means, color='red', linestyle='--', label= f\"Observed Difference of Means: \\\n",
    "{observed_diff_means}\")\n",
    "ax.axvline(-observed_diff_means, color='red', linestyle='--', label= f\"- Observed Difference of Means: \\\n",
    "{-observed_diff_means}\")\n",
    "#ax.axvline(conf_int[1], color='red', linestyle='--', label= f\"upper 95% CI {round(conf_int[1],0)}\")\n",
    "ax.set_ylabel('Frequency')\n",
    "ax.set_xlabel('Difference of Shifted Means\\n\\\n",
    "# Mean of Insured Charges - Mean Deviation of Non-Insured Charges')\n",
    "ax.set_title(f'Bootstrap Distribution of Difference of Means\\n\\\n",
    "Mean of Insured Charges - Mean of Non-Insured Charges\\n Replicates: {n_reps}')\n",
    "plt.legend()\n",
    "plt.show();"
   ]
  },
  {
   "cell_type": "markdown",
   "metadata": {},
   "source": [
    "## Confidence interval and p-value"
   ]
  },
  {
   "cell_type": "markdown",
   "metadata": {},
   "source": [
    "The confidence interval above is often a useful quantity to estimate. If we wish to limit our expected probability of making a Type I error (where we wrongly reject the null hypothesis, and it is, instead, true) to $\\alpha$, the associated confidence interval is our estimate of the interval within which we expect the true population value to be found $100\\times(1 - \\alpha)$% of the time we do this test. In the above we performed bootstrap replicates to estimate the interval and reject the null hypothesis if this interval did not contain zero. You will sometimes see such an interval reported in the output of statistical functions.\n",
    "\n",
    "The partner of the confidence interval is the p-value. The p-value and the confidence interval are linked through our choice of $\\alpha$. The p-value tells us how likely it is, under the null hypothesis, to get an outcome at least as extreme as what was observed. If this fails to reach the level of our _pre-specified_ $\\alpha$, we decide the null hypothesis is sufficiently unlikely to be true and thus reject it. To calculate this p-value via the bootstrap, we have to put ourselves in a position where we are simulating the null hypothesis being true and then calculate the fraction of times we observe a result at least as extreme as that actually observed.\n",
    "\n",
    "Remember how, previously, you used the _t_-test to calculate the p-value for the observed difference between the means of insured and non-insured medical cases. We're now going to repeat this, this time using the bootstrap approach.\n",
    "\n",
    "__Q:__ Perform a bootstrapped hypothesis test at the 5% significance level ($\\alpha = 0.05$) to calculate the p-value of the observed difference between insurance and non-insurance charges, state your null and alternative hypotheses and whether you retain or reject the null hypothesis for the given significance level."
   ]
  },
  {
   "cell_type": "markdown",
   "metadata": {},
   "source": [
    "A:The actual means of insured and non-insured medical cases have no difference but means are different as the p_value = 0.0 which indicated indicate if the Null Hypothesis is valid, there is extremely low prabablity to get a difference in the observed difference in the \"mean\" values of insured vs non-insured medical cases. We shall reject this Null Hypothesis and go to an Alternative Hypothesis."
   ]
  },
  {
   "cell_type": "markdown",
   "metadata": {},
   "source": [
    "Q:__ To put the above result in perspective, plot the histogram of your bootstrapped differences along with lines marking the locations of the observed difference. (Why would we plot more than one line, given that we only have one observed difference?)\n",
    "A: We are parsing  various differences; so if the arrays are reversed, we could be looking for a negative difference"
   ]
  },
  {
   "cell_type": "code",
   "execution_count": null,
   "metadata": {},
   "outputs": [],
   "source": []
  },
  {
   "cell_type": "markdown",
   "metadata": {},
   "source": [
    "__Q:__ Compare your p-value above with that obtained using the _t_-test function in the previous assignment. Do you think you would want to try to perform enough bootstrap replicates to observe a random difference as large as that we did observe?"
   ]
  },
  {
   "cell_type": "markdown",
   "metadata": {},
   "source": [
    "A: No I would not as it would consume large amounts of computing resources and the observed value is currently 2 fields away from the end of the distribution."
   ]
  },
  {
   "cell_type": "markdown",
   "metadata": {},
   "source": [
    "__Q:__ Consider the two variants of the _t_-test we performed in the previous assignment. Which one would you use now?"
   ]
  },
  {
   "cell_type": "markdown",
   "metadata": {},
   "source": [
    "A:  I would use a z test since we are comparing a population mean to a sample mean "
   ]
  },
  {
   "cell_type": "markdown",
   "metadata": {},
   "source": [
    "__Q:__ If, instead of being asked whether the means of two groups were different, you were working with an ad-recommender team who wanted to release a new recommendation algorithm, and you were looking at click-through rate both for the current algorithm (call it A) and from trials of their new algorithm (call it B), would you perform a two-sided test as above? What would be your null and alternative hypotheses and what would be the real-world consequence of rejecting the null hypothesis?"
   ]
  },
  {
   "cell_type": "markdown",
   "metadata": {},
   "source": [
    "A: I would suggest as a Null Hypothesis that the \"click through rates\" make no difference in the client intention to sign up. The Alternative Hypothesis suggests that the # of click through rates have different outcomes\n",
    "I would do a one-sample test using two groups A and B and set the mean of A to the mean of B. Null H: mean of A is acutally the mean of B. Alternative Hyp: the new algorithm is having an effect. Then I'd want to compute the fraction of replicates that are <= to the mean of A and use an HA alogorithm. A real world consequence of rejecting the null one tailed test to see if B is better than A"
   ]
  },
  {
   "cell_type": "markdown",
   "metadata": {},
   "source": [
    "# Learning outcomes\n",
    "\n",
    "You've previously applied frequentist methods to calculate confidence intervals, p-values, and perform hypothesis tests. Frequentist methods use theoretical results to calculate what we expect would happen if experiments were to be run again and again and again. Now you've seen how you can do the same things using the bootstrap approach, which does not rely on such theory, and attendant assumptions, but instead literally does run experiments again and again and again.\n",
    "\n",
    "In these exercises, you have:\n",
    "* calculated the same confidence interval lower limit as you did previously\n",
    "* tested the assumption that the variances of the two groups (insured vs. non-insured) were equal - something a bit harder to do using the frequentist method because of the nature of the sampling distribution for variance\n",
    "* calculated the p-value for the difference between the means of the two groups and compared with the result obtained using the previous frequentist approach\n",
    "\n",
    "You are now well equipped to apply the bootstrap approach to a wide variety of problems. Just think about what conditions you wish to recreate in your simulated reruns."
   ]
  }
 ],
 "metadata": {
  "kernelspec": {
   "display_name": "Python 3",
   "language": "python",
   "name": "python3"
  },
  "language_info": {
   "codemirror_mode": {
    "name": "ipython",
    "version": 3
   },
   "file_extension": ".py",
   "mimetype": "text/x-python",
   "name": "python",
   "nbconvert_exporter": "python",
   "pygments_lexer": "ipython3",
   "version": "3.7.4"
  }
 },
 "nbformat": 4,
 "nbformat_minor": 2
}
